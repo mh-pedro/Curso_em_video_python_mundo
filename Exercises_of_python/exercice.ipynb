{
 "cells": [
  {
   "cell_type": "markdown",
   "id": "1871d13e",
   "metadata": {
    "jp-MarkdownHeadingCollapsed": true
   },
   "source": [
    "## D018 \n",
    "Make a program that reads any angle and displays its sine, cosine and tangent values on the screen."
   ]
  },
  {
   "cell_type": "code",
   "execution_count": null,
   "id": "7cb9ce70",
   "metadata": {},
   "outputs": [],
   "source": [
    "import math as m\n",
    "ang = float(input('Write any angle: '))\n",
    "s = m.sin(m.radians(ang))\n",
    "c = m.cos(m.radians(ang))\n",
    "t = m.tan(m.radians(ang))\n",
    "print('The value of the sin({})={:.1f},cos({})={:.1f},tan({})={}.'.format(ang,s,ang,c,ang,t))"
   ]
  },
  {
   "cell_type": "markdown",
   "id": "d595288d",
   "metadata": {
    "jp-MarkdownHeadingCollapsed": true
   },
   "source": [
    "## D019 \n",
    "Write a program that randomizes a student to go to the blackboard and show how is."
   ]
  },
  {
   "cell_type": "code",
   "execution_count": null,
   "id": "580cd36a",
   "metadata": {},
   "outputs": [],
   "source": [
    "import random\n",
    "\n",
    "s1 = input(\"Write the name of student: \")\n",
    "s2 = input(\"Write the name of student: \")\n",
    "s3 = input(\"Write the name of student: \")\n",
    "s4 = input(\"Write the name of student: \")\n",
    "list = [s1,s2,s3,s4]\n",
    "print(\"The students choice is {}.\".format(random.choice(list)))"
   ]
  },
  {
   "cell_type": "markdown",
   "id": "1618095f",
   "metadata": {
    "jp-MarkdownHeadingCollapsed": true
   },
   "source": [
    "## D020\n",
    "Write a program that randomizes a student to go to the blackboard in a specific order."
   ]
  },
  {
   "cell_type": "code",
   "execution_count": null,
   "id": "ae5ba5c6",
   "metadata": {},
   "outputs": [],
   "source": [
    "import random\n",
    "\n",
    "s1 = str(input(\"Write the name of student: \"))\n",
    "s2 = str(input(\"Write the name of student: \"))\n",
    "s3 = str(input(\"Write the name of student: \"))\n",
    "s4 = str(input(\"Write the name of student: \"))\n",
    "list = [s1,s2,s3,s4]\n",
    "random.shuffle(list)\n",
    "print(\"The first student is {}, the second is {}, the third is {} and the last is {}.\".format(list[0],list[1],list[2],list[3]))"
   ]
  },
  {
   "cell_type": "markdown",
   "id": "40ac895f",
   "metadata": {
    "jp-MarkdownHeadingCollapsed": true
   },
   "source": [
    "## D021\n",
    "Write a program that read a mp3 sing."
   ]
  },
  {
   "cell_type": "code",
   "execution_count": null,
   "id": "b067000a",
   "metadata": {},
   "outputs": [],
   "source": [
    "import webbrowser\n",
    "webbrowser.open(\"/home/mhpedro/Curso_Python/Exercise_of_python/lofi.mp3\")"
   ]
  },
  {
   "cell_type": "markdown",
   "id": "ea785852-99fa-4fb6-8aca-9de8a8dfe329",
   "metadata": {
    "jp-MarkdownHeadingCollapsed": true
   },
   "source": [
    "## D022\n",
    "Write a program that reads the name of person and show:\n",
    " - The name with all letters capitalize\n",
    " - The name with all letters low\n",
    " - Count the letters with not the spaces\n",
    " - Count the letters in the first name"
   ]
  },
  {
   "cell_type": "code",
   "execution_count": null,
   "id": "2e6999a8-973e-446c-bfa2-a5e688caada5",
   "metadata": {},
   "outputs": [],
   "source": [
    "name = 'Pedro Henrique Morais'\n",
    "n1 = name.upper()\n",
    "n2 = name.lower()\n",
    "n3 = len(name.lstrip())\n",
    "n4 = len(name.split()[0])\n",
    "\n",
    "print('The name Pedro Henrique Morais, can be write in upper forme like ({}) or lower forme like ({}), has ({}) letters and the first name has ({}) letters.'.format(n1,n2,n3,n4))\n"
   ]
  },
  {
   "cell_type": "markdown",
   "id": "0757e4ad-4aa3-4bb9-8112-00f0a4c4ecc8",
   "metadata": {
    "jp-MarkdownHeadingCollapsed": true
   },
   "source": [
    "## D023\n",
    "Write a program that reads a number of 0 to 9999 and show in the screen each number separeted"
   ]
  },
  {
   "cell_type": "code",
   "execution_count": null,
   "id": "6ebf5de9-3341-45a1-94c3-94585acb4b2a",
   "metadata": {},
   "outputs": [],
   "source": [
    "n = str(input('Write a number between 0000 and 9999: '))\n",
    "print('The number is ({}), and we has \\nUnit = {} \\nTen = {} \\nHundred = {} \\nThousands = {}.'.format(n,n[3],n[2],n[1],n[0]))\n"
   ]
  },
  {
   "cell_type": "code",
   "execution_count": null,
   "id": "0584c380-e3be-45c8-b4c5-fb2ff2f1ccdf",
   "metadata": {},
   "outputs": [],
   "source": [
    "n = int(input(\"Write a number between 0 and 9999: \"))\n",
    "print('The number is ({}), and we has \\nUnit = {} \\nTen = {} \\nHundred = {} \\nThousands = {}.'.format(n,n // 1 % 10,n // 10 % 10,n // 100 % 10,n // 1000 % 10))\n"
   ]
  },
  {
   "cell_type": "markdown",
   "id": "30b79733-3760-4247-8ef8-e11f68b051a8",
   "metadata": {
    "jp-MarkdownHeadingCollapsed": true
   },
   "source": [
    "## D024 \n",
    "Write a program that reads the name of city and tell us if start or not with the name 'Santo'."
   ]
  },
  {
   "cell_type": "code",
   "execution_count": null,
   "id": "7a40bbb8-2efd-4e74-913f-abd88d06c573",
   "metadata": {},
   "outputs": [],
   "source": [
    "n = str(input('Write the name of city: '))\n",
    "n = n.lower().split()\n",
    "\n",
    "print(\"The word 'Santo' appear as the first word in the name of the city? {}.\".format('santo' in n[0]))"
   ]
  },
  {
   "cell_type": "markdown",
   "id": "3777aed9-0146-4cf1-80cc-01b1165fd928",
   "metadata": {
    "jp-MarkdownHeadingCollapsed": true
   },
   "source": [
    "## D025 \n",
    "Write a program that reads the name of person and tell us if the name 'Santo' appear."
   ]
  },
  {
   "cell_type": "code",
   "execution_count": null,
   "id": "9b0356bc-15b1-463a-bfef-8bd89536783e",
   "metadata": {},
   "outputs": [],
   "source": [
    "n = str(input('Write the name of person: '))\n",
    "n = n.lower().split()\n",
    "\n",
    "print(\"The word 'Silva' appear in the name of the person? {}.\".format('silva' in n))"
   ]
  },
  {
   "cell_type": "markdown",
   "id": "9f1037ec-1f9d-401a-820d-1814078ecbce",
   "metadata": {
    "jp-MarkdownHeadingCollapsed": true
   },
   "source": [
    "## D026\n",
    "Write a program that reads the phrase and shows how munch the letter 'A' appear, the first and the last position appear."
   ]
  },
  {
   "cell_type": "code",
   "execution_count": null,
   "id": "d3f5aa3b-054b-4bb6-b929-dc80d43d6093",
   "metadata": {},
   "outputs": [],
   "source": [
    "n = str(input('Write a phrase: '))\n",
    "n = n.lower()\n",
    "print(\"The phrase has {} letters 'a', the first time that appear is in the position {} and the last time that appear is in the position {}.\".format(n.count('a'),n.find('a'),n.rfind('a')))"
   ]
  },
  {
   "cell_type": "markdown",
   "id": "32a2ab1b-038d-48b7-ae60-86291aa8f034",
   "metadata": {
    "jp-MarkdownHeadingCollapsed": true
   },
   "source": [
    "## D027 \n",
    "Write a program that can reads the name of person and next show the first name and the last name."
   ]
  },
  {
   "cell_type": "code",
   "execution_count": null,
   "id": "cff3ec68-36ed-44bc-98bb-4677823a5e02",
   "metadata": {},
   "outputs": [],
   "source": [
    "n = str(input('Write your name: '))\n",
    "print(\"The first name of the person is {} and the last name is {}.\".format(n.split()[0],n.split()[-1] ))"
   ]
  },
  {
   "cell_type": "markdown",
   "id": "b9975ff2-04be-4055-b547-0ae3ad40d55e",
   "metadata": {},
   "source": [
    "## D028\n",
    "Escreva um programa que faça o computador \"pensar\" em um número interio entre 0 e 5 e peça para o usuário tentar descobri qual foi o número escolhido pelo computador.\n",
    "\n",
    "O programa deverá escrever na tela se o usuário venceu ou perdeu."
   ]
  },
  {
   "cell_type": "code",
   "execution_count": null,
   "id": "bf19563a-5f7a-4579-b1b7-2e5e18557f27",
   "metadata": {},
   "outputs": [],
   "source": [
    "import random\n",
    "list = [1,2,3,4,5,6,7,8,9,10]\n",
    "n1 = random.choice(list)\n",
    "n2 = int(input(\"Escreva um numero entre 1 e 10: \"))\n",
    "if n2 == n1:\n",
    "    print(\"Você é foda, conseguiu ler a mente da máquina\")\n",
    "else:\n",
    "    print(\"Te falta leptospirosi!\")"
   ]
  },
  {
   "cell_type": "markdown",
   "id": "54611de7-7153-420b-a3af-fc05447b0c44",
   "metadata": {
    "jp-MarkdownHeadingCollapsed": true
   },
   "source": [
    "## D029\n",
    "Escreva um programa que leia a velocidade de um carro.\n",
    "\n",
    "Se ele ultrapassar 80km/h, mostre uma mensagem dizendo que ele foi multado.\n",
    "\n",
    "A multa vai custar R$7,00 por cada Km acida do limite."
   ]
  },
  {
   "cell_type": "code",
   "execution_count": null,
   "id": "23f7edaf-0710-4370-a632-8c4b8866939e",
   "metadata": {},
   "outputs": [],
   "source": [
    "vel = float(input(\"Digite a velocidade do carro: \"))\n",
    "if vel>80:\n",
    "    vel_superior = vel-limit\n",
    "    print(\"Você está acima do limite de velocidade, sua multa é R$ {:.2f}.\".format(vel_superior))\n",
    "else:\n",
    "    print(\"Você está dentro do limite de velocidade\")\n",
    "    "
   ]
  },
  {
   "cell_type": "markdown",
   "id": "daae939c-9980-4e71-8dda-3428d2ba0c12",
   "metadata": {
    "jp-MarkdownHeadingCollapsed": true
   },
   "source": [
    "## D030\n",
    "Crie um programa que leia o número inteiro e mostre na tela se ele é par ou ímpar."
   ]
  },
  {
   "cell_type": "code",
   "execution_count": null,
   "id": "889e8d0d-1f36-4db1-8e9a-dc0a8e03397d",
   "metadata": {},
   "outputs": [],
   "source": [
    "n = int(input(\"Digite um número inteiro: \"))\n",
    "if n%2>0:\n",
    "    print(\"O número é ímpar\")\n",
    "else:\n",
    "    print(\"O número é par\")"
   ]
  },
  {
   "cell_type": "markdown",
   "id": "c638c819-abe9-4ad8-8d0e-926e86fa7759",
   "metadata": {
    "jp-MarkdownHeadingCollapsed": true
   },
   "source": [
    "## D031 \n",
    "Desenvolva um programa que pergunte a distância de uma viagem em Km. Calcule o preço da passagem, cobrando 0.50 por Km\n",
    "para viagems de até 200Km e 0.45 para viagens mais longas."
   ]
  },
  {
   "cell_type": "code",
   "execution_count": null,
   "id": "01ac4a71-6569-4ca3-ac8e-052d09b7b77d",
   "metadata": {},
   "outputs": [],
   "source": [
    "d = float(input(\"Digite a distância da viagem: \"))\n",
    "if d >= 200:\n",
    "    print(\"O preço da viagem é {} reais!\".format(d*0.45))\n",
    "else:\n",
    "    print(\"O preço da viagem é {} reais!\".format(d*0.5))"
   ]
  },
  {
   "cell_type": "markdown",
   "id": "7b68a62f-9c6b-4cc7-9180-ec759b7707c2",
   "metadata": {
    "jp-MarkdownHeadingCollapsed": true
   },
   "source": [
    "## D032\n",
    "Faça um programa que leia um ano qualquer e mostre se ele é BISEXTO."
   ]
  },
  {
   "cell_type": "code",
   "execution_count": null,
   "id": "1964090e-add7-4d52-9879-f9e8033fc8c0",
   "metadata": {},
   "outputs": [],
   "source": [
    "ano = int(input(\"Digite um ano: \"))\n",
    "\n",
    "if ano%100>1 and ano%400>1 and ano%4==0 or ano%100==0 and ano%400==0:\n",
    "    print(\"O ano é bissexto\")\n",
    "else:\n",
    "    print(\"O ano não é bissexto\")"
   ]
  },
  {
   "cell_type": "markdown",
   "id": "9a0705dc-06ae-4f51-9a57-2c37a5455214",
   "metadata": {
    "jp-MarkdownHeadingCollapsed": true
   },
   "source": [
    "## D033\n",
    "Faça um programa que leia três números e mostre qual é o maior e qual é o menor"
   ]
  },
  {
   "cell_type": "code",
   "execution_count": null,
   "id": "ae3c6f0f-005d-46ac-8f71-70dd408aad9d",
   "metadata": {},
   "outputs": [],
   "source": [
    "n1 = float(input(\"Digite um número: \"))\n",
    "n2 = float(input(\"Digite um número: \"))\n",
    "n3 = float(input(\"Digite um número: \"))\n",
    "\n",
    "\n",
    "if n1>n2 and n1>n3:\n",
    "    print(\"O numero {} é o maior\".format(n1))\n",
    "if n2>n1 and n2>n3:\n",
    "    print(\"O numero {} é o maior\".format(n2))\n",
    "if n3>n1 and n3>n2:\n",
    "    print(\"O numero {} é o maior\".format(n3))\n",
    "if n1<n2 and n1<n3:\n",
    "    print(\"O numero {} é o maior\".format(n1))\n",
    "if n2<n1 and n2<n3:\n",
    "    print(\"O numero {} é o maior\".format(n2))\n",
    "if n3<n1 and n3<n2:\n",
    "    print(\"O numero {} é o maior\".format(n3))"
   ]
  },
  {
   "cell_type": "code",
   "execution_count": null,
   "id": "153dbacd-c570-4203-9a93-84bb330e0ac3",
   "metadata": {},
   "outputs": [],
   "source": [
    "a = int(input(\"Primeiro valor: \"))\n",
    "b = int(input(\"Primeiro valor: \"))\n",
    "c = int(input(\"Primeiro valor: \"))\n",
    "\n",
    "menor = a\n",
    "if b < a and b < c:\n",
    "    menor = b\n",
    "if c < a and c < b:\n",
    "    menor = c\n",
    "\n",
    "maior = a\n",
    "if b > a and b > c:\n",
    "    menor = b\n",
    "if c > a and c > b:\n",
    "    maior = c\n",
    "print(\"O menor valor é {}.\".format(menor))\n",
    "print(\"O maior valor é {}.\".format(maior))"
   ]
  },
  {
   "cell_type": "markdown",
   "id": "ea6283bc-507d-4776-9106-61bb55b47650",
   "metadata": {
    "jp-MarkdownHeadingCollapsed": true
   },
   "source": [
    "## D034 \n",
    "Escreva um programa que pergunte o salário de um funcionário e calcule o valor do seu aumento.\n",
    "\n",
    "Para salários superiores a 1259,00, calcule um aumento de 10%\n",
    "Para salários inferioers ou iguais, o aumento é de 15%"
   ]
  },
  {
   "cell_type": "code",
   "execution_count": null,
   "id": "861e2441-7bd2-4f32-8e94-59fe5711ed58",
   "metadata": {},
   "outputs": [],
   "source": [
    "n = int(input(\"Digite o salário do funcionário: \"))\n",
    "if n>=1250:\n",
    "    novo_salario = n+n*0.1\n",
    "    print(\"Você vai ganhar 10% de aumento, seu novo salário é {} reais.\".format(novo_salario))\n",
    "else:\n",
    "    novo_salario = n+n*0.15\n",
    "    print(\"Você vai ganhar 15% de aumento, seu novo salário é {} reais.\".format(novo_salario))"
   ]
  },
  {
   "cell_type": "markdown",
   "id": "05d4e192-520b-4718-a07c-478a6e7f57ac",
   "metadata": {
    "jp-MarkdownHeadingCollapsed": true
   },
   "source": [
    "## D035\n",
    "Desenvolva um programa que leia o comprimento de três retas e diga ao usuário se elas formam um triângulo."
   ]
  },
  {
   "cell_type": "code",
   "execution_count": null,
   "id": "d5911807-8094-4b86-bde2-414ca344a3eb",
   "metadata": {},
   "outputs": [],
   "source": [
    "print(\"-=\"*20)\n",
    "print(\"Analisando triângulos\")\n",
    "print(\"-=\"*20)\n",
    "\n",
    "n1 = int(input(\"Digite o tamanho de uma reta: \"))\n",
    "n2 = int(input(\"Digite o tamanho de uma reta: \"))\n",
    "n3 = int(input(\"Digite o tamanho de uma reta: \"))\n",
    "\n",
    "if (n1+n2)>n3 and (n2+n3)>n1 and (n3+n1)>n2:\n",
    "    print(\"Elas podem forma um triângulo\")\n",
    "else:\n",
    "    print(\"Elas não podem formar um triângulo\")"
   ]
  },
  {
   "cell_type": "markdown",
   "id": "9f00008f-aba7-4c35-b9c8-c8eb8b12a50d",
   "metadata": {
    "jp-MarkdownHeadingCollapsed": true
   },
   "source": [
    "## D036\n",
    "Escreva um programa para aprovar o empréstimo bancário para a compra de uma casa.\n",
    "O programa vai perguntar o valor da casa, o sálario do comprador e em quantos anos ele vai pagar.\n",
    "\n",
    "Calcule o valor da prestação mensal, sabendo que ela não pode exceder 30% do salário ou então o emprestimo será negago."
   ]
  },
  {
   "cell_type": "code",
   "execution_count": null,
   "id": "d675261c-34ff-49e7-a823-434d64b2f0fc",
   "metadata": {},
   "outputs": [],
   "source": [
    "print('='*80)\n",
    "print(f'{\"Analise de emprestimo bancário\":^80}')\n",
    "print('='*80)\n",
    "\n",
    "valor   = int(input('Qual o valor da casa? '))\n",
    "salario = int(input('Qual o valor da sua renda? '))\n",
    "anos    = int(input('Em quantos anos deseja pagar? '))\n",
    "tempo   = anos*12\n",
    "\n",
    "mensalidade = valor / tempo\n",
    "limite_da_parcela = salario*0.3\n",
    "\n",
    "if mensalidade < limite_da_parcela:\n",
    "    print('Sua analise foi aprovada. Sua parcela é de {:.2f}.'.format(mensalidade))\n",
    "else:\n",
    "    print('Sua analise foi negada!.')"
   ]
  },
  {
   "cell_type": "markdown",
   "id": "737fb285-55d9-4072-8dc5-e3101bbe7e3f",
   "metadata": {
    "jp-MarkdownHeadingCollapsed": true
   },
   "source": [
    "## D037\n",
    "\n",
    "Escreva um programa que leia um número inteiro qualquer e peça para o usuário escolher qual será a base de conversão:\n",
    "- 1 para binário:\n",
    "- 2 para octal:\n",
    "- 3 para hexadecimal:"
   ]
  },
  {
   "cell_type": "code",
   "execution_count": null,
   "id": "a9221a08-75be-4fa0-9311-bf4de9f62ed4",
   "metadata": {},
   "outputs": [],
   "source": [
    "print('='*80)\n",
    "print(f'{\"Escolha a base decimal\":^80}')\n",
    "print('='*80)\n",
    "\n",
    "n = int(input('Escolha um número inteiro qualquer: '))\n",
    "b = int(input('Escolha entre as opções de bases: \\n [1] Binário \\n [2] Octal \\n [3] Hexadecimal \\n ')) \n",
    "# Pode se usar a função bin() para converter um inteiro em binário\n",
    "\n",
    "if   b == 1:\n",
    "    print('Você escolheu a base binária, o valor convertido é {}.'.format(bin(n)))\n",
    "elif b == 2:\n",
    "    print('Você escolheu a base Octal, o valor convertido é {}.'.format(oct(n)))\n",
    "elif b == 3:\n",
    "    print('Você escolheu a base Hedaxecimal, o valor convertido é {}.'.format(hex(n)))\n",
    "\n"
   ]
  },
  {
   "cell_type": "markdown",
   "id": "6c2f0165-316c-4b05-b480-325ad166b41a",
   "metadata": {
    "jp-MarkdownHeadingCollapsed": true
   },
   "source": [
    "## D038 \n",
    "Escreva um programa que leia dois números inteiros e compare-os, mostrando na tela uma mensagem:\n",
    "- O primeiro valor é maior\n",
    "- O segundo valor é maior\n",
    "- Não existe valor maior, os dois são iguais."
   ]
  },
  {
   "cell_type": "code",
   "execution_count": null,
   "id": "fd196d3e-fc9e-4e0f-a45b-f8b4049ab62c",
   "metadata": {},
   "outputs": [],
   "source": [
    "print('='*80)\n",
    "print(f'{'Analisando qual númnero é maior':^80}')\n",
    "print('='*80)\n",
    "\n",
    "n1 = int(input('Digite o primeiro número: '))\n",
    "n2 = int(input('Digire o segundo número: '))\n",
    "\n",
    "if n1>n2:\n",
    "    print('O número {} é maior que {}.'.format(n1,n2))\n",
    "elif n1<n2:\n",
    "    print('O número {} é maior que {}.'.format(n2,n1))\n",
    "else:\n",
    "    print('Os números são iguais.')"
   ]
  },
  {
   "cell_type": "markdown",
   "id": "f11102d3-92b4-49d4-a0db-11f70ff8b48c",
   "metadata": {
    "jp-MarkdownHeadingCollapsed": true
   },
   "source": [
    "## D039\n",
    "Faça um programa que leia o ano de nascimento de um jovem e informe, de acordo com sua idade:\n",
    "- Se ele ainda vai se alistar ao serviço militar.\n",
    "- Se é a hora de se alistar.\n",
    "- Se já passou do tempo do alistamento."
   ]
  },
  {
   "cell_type": "code",
   "execution_count": null,
   "id": "56a9e7f8-498f-4932-af64-352400dfa8de",
   "metadata": {},
   "outputs": [],
   "source": [
    "from datetime import date\n",
    "\n",
    "print('='*80)\n",
    "print(f'{'Alistamento militar':^80}')\n",
    "print('='*80)\n",
    "\n",
    "a = int(input('Digite o ano de nascimento: '))\n",
    "ano_atual = date.today().year\n",
    "idade = ano_atual - a\n",
    "if ano_atual - a < 18:\n",
    "    print('Você ainda vai se alistar, falta {} anos para o seu alistamento'.format(18 - idade))\n",
    "elif ano_atual - a == 18:\n",
    "    print('É ano de se alistar')\n",
    "else:\n",
    "    print('Já passou o prazo de se alistar, já passram {} anos do seu alistamento'.format(idade-18))\n"
   ]
  },
  {
   "cell_type": "markdown",
   "id": "f3f10c12-6c46-41d5-ad46-c54d691bf057",
   "metadata": {
    "jp-MarkdownHeadingCollapsed": true
   },
   "source": [
    "## D040\n",
    "Crie um programa que leia duas notas de um aluno e calcule sua média, mostrando uma mensagem no final, de acordo com a média atingida:\n",
    "- Média abaixo de 5.0: Reprovado\n",
    "- Média entre 5.0 e 6.9: Recuperação\n",
    "- Média entre 7.0 ou superior: Aprovado"
   ]
  },
  {
   "cell_type": "code",
   "execution_count": null,
   "id": "5d729d55-4a6d-4b70-9c45-6d6f6df9459f",
   "metadata": {},
   "outputs": [],
   "source": [
    "print('='*80)\n",
    "print(f'{'Cálculo da média de um aluno':^80}')\n",
    "print('='*80)\n",
    "\n",
    "n1 = float(input('Digite a Primeira nota: '))\n",
    "n2 = float(input('Digite a Segunda nota: '))\n",
    "\n",
    "media = (n1+n2)/2\n",
    "\n",
    "if media < 5.0:\n",
    "    print('Você foi reprovado, tente no próximo ano!')\n",
    "elif media > 5.0 and media < 6.9:\n",
    "    print('Você está de recuperação')\n",
    "else:\n",
    "    print('Você foi aprovado')"
   ]
  },
  {
   "cell_type": "markdown",
   "id": "7f6d6abb-1a4b-4e54-bb43-a6e3d2a05e7d",
   "metadata": {
    "jp-MarkdownHeadingCollapsed": true
   },
   "source": [
    "## D041 \n",
    "A confederação Nacional de Natação precisa de um programa que leia o ano de nascimento de um atleta\n",
    "e mostre sua categoria, de acordo com a idade:\n",
    "- Até 9 anos: MIRIM\n",
    "- Até 14 anos: INFANTIL\n",
    "- Até 19 anos: JUNIOR\n",
    "- Até 20 anos: SÊNIOR\n",
    "- Acima: MASTER"
   ]
  },
  {
   "cell_type": "code",
   "execution_count": null,
   "id": "3ab43c54-576a-4519-b2a2-f17cb6ac3ef8",
   "metadata": {},
   "outputs": [],
   "source": [
    "print('='*80)\n",
    "print(f'{'Definição de categoria de natação':^80}')\n",
    "print('='*80)\n",
    "\n",
    "data = int(input('Digite o ano de nascimento: '))\n",
    "\n",
    "if data <= 9:\n",
    "    print('Sua categoria é MIRIM')\n",
    "elif data > 9 and data <= 14:\n",
    "    print('Sua categoria é INFANTIL')\n",
    "elif data > 14 and data <= 19:\n",
    "    print('Sua categoria é JUNIOR')\n",
    "elif data > 19 and data <= 20:\n",
    "    print('Sua categoria é SÊNIOR')\n",
    "else:\n",
    "    print('Sua categoria é MASTER')"
   ]
  },
  {
   "cell_type": "markdown",
   "id": "63aace7e-4748-4ec0-8d8d-f8c47ca3f45c",
   "metadata": {
    "jp-MarkdownHeadingCollapsed": true
   },
   "source": [
    "## D042\n",
    "Refaça o desafio D035 dos triângulos, acrescentando o recurso de mostrar que tipo de triângulo será formado:\n",
    "- Equilátero: Todos os lados iguais:\n",
    "- Isóceles: dois lados iguais\n",
    "- Escaleno: todos os lados diferentes."
   ]
  },
  {
   "cell_type": "code",
   "execution_count": null,
   "id": "d39358c7-abec-4224-a228-9dcad5c8e9d5",
   "metadata": {},
   "outputs": [],
   "source": [
    "print('='*80)\n",
    "print(f'{'Analisando se retas podem formar um triângulo':^80}')\n",
    "print('='*80)\n",
    "\n",
    "n1 = int(input('Digite o tamanho da primeira reta: '))\n",
    "n2 = int(input('Digite o tamanho da segunda  reta: '))\n",
    "n3 = int(input('Digite o tamanho da terceira reta: '))\n",
    "\n",
    "if n1 + n2 > n3 and n2 + n3 > n1 and n3 + n1 > n2:\n",
    "    if n1 == n2 and n1 == n3:\n",
    "        print('Eles podem formar um triângulo Equilátero')\n",
    "    elif  n1 == n2 or n1 == n3 or n2 == n3:\n",
    "        print('Eles podem formar um triângulo Isóceles')\n",
    "    elif n1 != n2  and n1 != n3 and n2 != n3:\n",
    "        print('Eles podem formar um triângulo Escaleno')\n",
    "else:\n",
    "    print('Eles não podem formar um triângulo')"
   ]
  },
  {
   "cell_type": "markdown",
   "id": "b7ee44af-f8bb-4452-be81-7c307dd72a3e",
   "metadata": {
    "jp-MarkdownHeadingCollapsed": true
   },
   "source": [
    "## D043\n",
    "Desenvolva uma lógica que leia o peso e a altura de uma pessoa, calcule seu IMC\n",
    "e mostre seu status, de acordo com a tabela abaixo:\n",
    "- Abaixo de 18.5: Abaixo do peso\n",
    "- Entre 18.5 e 25: Peso ideal\n",
    "- 25 até 30: Sobrepeso\n",
    "- 30 até 40: Obesidade\n",
    "- Acima de 40: Obesidade mórbida"
   ]
  },
  {
   "cell_type": "code",
   "execution_count": null,
   "id": "cd6321d8-b210-4be1-9a60-3a7c68f022d2",
   "metadata": {},
   "outputs": [],
   "source": [
    "print('='*80)\n",
    "print(f'{'Indice de Massa Corporia':^80}')\n",
    "print('='*80)\n",
    "\n",
    "a = float(input('Digite sua altura em metros: '))\n",
    "m = float(input('Digite seu peso em Kg: '))\n",
    "\n",
    "ind = m / a**2\n",
    "\n",
    "if ind <= 18.5:\n",
    "    print('Você está abaixo do peso')\n",
    "elif ind > 18.5 and ind <=25:\n",
    "    print('Você está no peso ideal')\n",
    "elif ind > 25 and ind <= 30:\n",
    "    print('Você está sobrepeso')\n",
    "elif ind > 30 and ind <= 40:\n",
    "    print('Você está em obesidade')\n",
    "else:\n",
    "    print('Você está em obesidade mórbida')"
   ]
  },
  {
   "cell_type": "markdown",
   "id": "d1422660-f5e8-484f-9a82-a986bd8b4701",
   "metadata": {
    "jp-MarkdownHeadingCollapsed": true
   },
   "source": [
    "## D044\n",
    "Elabore um programa que calcule o valor a ser pago por um produto, considerando o seu preço normal e condição de pagamento:\n",
    "- À vista dinheiro ou pix: 10% de desconto\n",
    "- À vista no cartão: 5% de desconto\n",
    "- Em até 2x no cartão: preço normal\n",
    "- Em 3x ou mais no cartão: 20% de juros."
   ]
  },
  {
   "cell_type": "code",
   "execution_count": null,
   "id": "acdf05a6-5d3a-4728-a8ff-301b2a92394f",
   "metadata": {},
   "outputs": [],
   "source": [
    "print('='*80)\n",
    "print(f'{'Valor de uma comprar realizad à vista ou parcelado':^80}')\n",
    "print('='*80)\n",
    "\n",
    "n = str(input('Escolha a forma de pagamento \\n [a] À vista dinheiro ou pix: 10% de desconto \\n [b] À vista no cartão: 5% de desconto \\n [c] Em até 2x no cartão: preço normal \\n [d] Em 3x ou mais no cartão: 20% de juros \\n '))\n",
    "pre = float(input('Digite o preço do produto: '))\n",
    "            \n",
    "if n == 'a' or n == 'A':\n",
    "    print('Você escolheu a opção [{}], o preço do produto é {} reais.'.format(n,pre-pre*0.1))\n",
    "elif n == 'b' or n == 'B':\n",
    "     print('Você escolheu a opção [{}], o preço do produto é {} reais.'.format(n,pre-pre*0.05))\n",
    "elif n == 'c' or n == 'c':\n",
    "     print('Você escolheu a opção [{}], o preço do produto é {} reais.'.format(n,pre))\n",
    "elif n == 'd' or n == 'd':\n",
    "     print('Você escolheu a opção [{}], o preço do produto é {} reais.'.format(n,pre+pre*0.2))"
   ]
  },
  {
   "cell_type": "markdown",
   "id": "f9e0e6b0-3f0c-41a1-82cc-c2ce53bc46ef",
   "metadata": {
    "jp-MarkdownHeadingCollapsed": true
   },
   "source": [
    "## D045\n",
    "Crie um programa que faça o computador jogar Jokenpô com você"
   ]
  },
  {
   "cell_type": "code",
   "execution_count": null,
   "id": "dc078967-e81a-4e3a-8473-ac8a970e50c0",
   "metadata": {},
   "outputs": [],
   "source": [
    "print('='*80)\n",
    "print(f'{'Jokenpô com a maquina':^80}')\n",
    "print('='*80)\n",
    "from random import randint\n",
    "itens = ('Pedra', 'Papel', 'Tesoura')\n",
    "computador = randint(0,2)\n",
    "print('''Sua opções:\n",
    "[ 0 ] PEDRA\n",
    "[ 1 ] PAPEL\n",
    "[ 2 ] TESOURA ''')\n",
    "jogador = int(input('Qual é a sua jogada? '))\n",
    "print('='*80)\n",
    "print('Computador jogou: {}'.format(itens[computador]))\n",
    "print('Jogador jogou: {}'.format(itens[jogador]))\n",
    "print('='*80)\n",
    "\n",
    "if computador == 0:\n",
    "    if jogador == 0:\n",
    "        print('O game ficou empatado')\n",
    "    if jogador == 1:\n",
    "        print('O jogador ganhou')\n",
    "    if jogador == 2:\n",
    "        print('O jogador perdeu')\n",
    "elif computador == 1:\n",
    "    if jogador == 0:\n",
    "        print('O jogador perdeu')\n",
    "    if jogador == 1:\n",
    "        print('O game ficou empatado')\n",
    "    if jogador == 2:\n",
    "        print('O jogador ganhou')\n",
    "elif computador == 2:\n",
    "    if jogador == 0:\n",
    "        print('O jogador ganhou')\n",
    "    if jogador == 1:\n",
    "        print('O jogador ganhou')\n",
    "    if jogador == 2:\n",
    "        print('O game ficou empatado')"
   ]
  },
  {
   "cell_type": "markdown",
   "id": "bfefcb2e-b57a-45af-8fcf-085deacedbdb",
   "metadata": {
    "jp-MarkdownHeadingCollapsed": true
   },
   "source": [
    "## D046 \n",
    "Faça um programa que mostre uma contagem regressiva para o estouro de fogos de artifício, ind de 10 até 0, com uma pausa de 1 segundo entre elas."
   ]
  },
  {
   "cell_type": "code",
   "execution_count": null,
   "id": "c5adb40c-a133-473d-8717-f4a00588a98e",
   "metadata": {},
   "outputs": [],
   "source": [
    "import time\n",
    "# Here we can use the modulo time to get the function sleep(1s)\n",
    "\n",
    "print('='*40)\n",
    "print(f'{'Contagem regressiva':^40}')\n",
    "print('='*40)\n",
    "\n",
    "for c in range(10,-1,-1):\n",
    "    time.sleep(0.5) \n",
    "    print(f'{'{0:-2d}':^43}'.format(c))\n",
    "time.sleep(0.1)\n",
    "print(f'{'Feliz Ano Novo':^40}')"
   ]
  },
  {
   "cell_type": "markdown",
   "id": "e0a44776-9e1a-4a93-a73a-16106ce1b447",
   "metadata": {
    "jp-MarkdownHeadingCollapsed": true
   },
   "source": [
    "## D047\n",
    "Crie um programa que mostre na tela todos os números pares que estão no intervalo entre 1 e 50"
   ]
  },
  {
   "cell_type": "code",
   "execution_count": null,
   "id": "50f91813-982b-4393-bc7c-1ebf55f7ee1a",
   "metadata": {},
   "outputs": [],
   "source": [
    "print('='*80)\n",
    "print(f'{'Contagem de números pares entre 1 e 50':^80}')\n",
    "print('='*80)\n",
    "for c in range(0,51,2):\n",
    "    if c != 0:\n",
    "        print(c)\n",
    "print('FIM')"
   ]
  },
  {
   "cell_type": "markdown",
   "id": "efa3fc6b-b1ba-4cff-822d-93def3f2b785",
   "metadata": {
    "jp-MarkdownHeadingCollapsed": true
   },
   "source": [
    "## D048 \n",
    "Faça um programa que calcule a soma entre todos os números impares que são multiplos de três e que se encontram no intervalo de 1 até 500."
   ]
  },
  {
   "cell_type": "code",
   "execution_count": null,
   "id": "0fcf55dc-82a4-4b4a-8a7d-a096371e1c36",
   "metadata": {},
   "outputs": [],
   "source": [
    "print('='*60)\n",
    "print(f'{'Soma dos números impares multiplos de três e que se encontram no intervalo de até 500.':^60}')\n",
    "print('='*60)\n",
    "\n",
    "s=[]\n",
    "cont = 0\n",
    "for c in range(1,501,2):\n",
    "    if c % 3 == 0:\n",
    "        cont = cont + 1\n",
    "        s.append(c)\n",
    "soma = sum(s)\n",
    "print('O resultado da soma de todos os {} valores solicidados é {}.'.format(cont,soma))"
   ]
  },
  {
   "cell_type": "markdown",
   "id": "00a08dca-bcb5-44a3-b9cc-46468eb7ae1d",
   "metadata": {
    "jp-MarkdownHeadingCollapsed": true
   },
   "source": [
    "## D049\n",
    "Refaça o D009, motrando a tabuada de um número que o usuário escolher, só que agora utilizando um laçor (for)."
   ]
  },
  {
   "cell_type": "code",
   "execution_count": null,
   "id": "2cbaa9f2-2dba-449e-9d09-fbf432f83f32",
   "metadata": {},
   "outputs": [],
   "source": [
    "print('='*60)\n",
    "print(f'{'Tubuada':^60}')\n",
    "print('='*60)\n",
    "a = int(input('Escolha o numero que deseja calcular a tabuada: '))\n",
    "\n",
    "for i in range(0,11,1):\n",
    "    print('{} x {} = {}'.format(a,i,a*i))"
   ]
  },
  {
   "cell_type": "markdown",
   "id": "8db64fcb-36f2-41dd-abba-821e4f0daf7b",
   "metadata": {
    "jp-MarkdownHeadingCollapsed": true
   },
   "source": [
    "## D050\n",
    "Desenvolva um programa que leia seis números inteiros e mostre a soma apenas daqueles que forem pares. Se o valor digitado for ímpare desconsidere-o."
   ]
  },
  {
   "cell_type": "code",
   "execution_count": null,
   "id": "a7316428-33fb-481b-801c-be5a9b49c33f",
   "metadata": {},
   "outputs": [],
   "source": [
    "print('='*60)\n",
    "print(f'{'Soma dos números pares':^60}')\n",
    "print('='*60)\n",
    "soma = 0\n",
    "cont = 0\n",
    "for i in range(1,7):\n",
    "    n = int(input('Digite o {} valor: '.format(i)))\n",
    "    if n % 2 == 0:\n",
    "        soma += n\n",
    "        cont += 1\n",
    "print(f'{'Foram contados {} números pares e a soma entre eles é {}.'}'.format(cont,soma))"
   ]
  },
  {
   "cell_type": "markdown",
   "id": "1dcb7ccb-0cfc-4b44-9ccf-83b512fd43d1",
   "metadata": {
    "jp-MarkdownHeadingCollapsed": true
   },
   "source": [
    "## D051\n",
    "Desenvolva um programa que leia o primeiro termo e a razão de um PA. No final, mostre os 10 primeiros termos dessa progressão"
   ]
  },
  {
   "cell_type": "code",
   "execution_count": null,
   "id": "ed606ef6-0844-47a1-8ab2-63c2dbf49259",
   "metadata": {},
   "outputs": [],
   "source": [
    "print('='*60)\n",
    "print(f'{'Progressão Aritimetrica':^60}')\n",
    "print('='*60)\n",
    "a1 = int(input('Digite o primeiro termos da PA: '))\n",
    "r = int(input('Digite a razão da PA: '))\n",
    "n = int(input('Digite o n-esimo termo: '))\n",
    "s = 0\n",
    "for i in range(0,n,1):\n",
    "    pa = a1+(i-1)*r   \n",
    "    print(pa)\n",
    "    s+= pa\n",
    "print('A soma dos termos é {}.'.format(s))"
   ]
  },
  {
   "cell_type": "markdown",
   "id": "eb8d3916-5afe-42a2-8d03-6bb837f5821b",
   "metadata": {
    "jp-MarkdownHeadingCollapsed": true
   },
   "source": [
    "## D052\n",
    "Faça um programa que leia um número inteiro e diga se ele é ou não um número primo."
   ]
  },
  {
   "cell_type": "code",
   "execution_count": null,
   "id": "c5d28cc4-3828-4751-b097-77e2024e495b",
   "metadata": {},
   "outputs": [],
   "source": [
    "print('='*60)\n",
    "print(f'{'Leitura para saber se o número é ou não primo':^60}')\n",
    "print('='*60)\n",
    "\n",
    "n = int(input('Digite um número: '))\n",
    "tot = 0\n",
    "for i in range (1, n+1):\n",
    "    if n % i == 0:\n",
    "        print('\\033[33m', end='')\n",
    "        tot += 1\n",
    "    else:\n",
    "        print('\\033[31m', end='')\n",
    "    print('{} '.format(i), end='')\n",
    "print('\\n\\033[mo número {} foi divisível {} vezes.'.format(n,tot))\n",
    "if tot == 2:\n",
    "    print('E por isso ele é PRIMO')\n",
    "else:\n",
    "    print('E por isso ele não é PRIMO')\n"
   ]
  },
  {
   "cell_type": "markdown",
   "id": "7cea9180-7c31-421a-8084-551ed4a1274f",
   "metadata": {
    "jp-MarkdownHeadingCollapsed": true
   },
   "source": [
    "## D053\n",
    "Crie um programa que leia uma frase qualquer e diga se ela é um palindromo desconsiderando os espaços."
   ]
  },
  {
   "cell_type": "code",
   "execution_count": null,
   "id": "7c7b2eb4-dcaa-45d9-9707-8b8e225adad8",
   "metadata": {},
   "outputs": [],
   "source": [
    "print('='*60)\n",
    "print(f'{'Leitura para saber se uma frase é um palindromo':^60}')\n",
    "print('='*60)\n",
    "\n",
    "def remove(string): \n",
    "    return string.replace(\" \", \"\").lower()\n",
    "    \n",
    "string = str(input('Digite uma frase: '))\n",
    "\n",
    "if remove(string) == remove(string)[::-1]:\n",
    "    print('A frase é um palindrome')\n",
    "else:\n",
    "    print('Não é um palindrome')"
   ]
  },
  {
   "cell_type": "markdown",
   "id": "6b62a727-bf5f-4931-a35a-314e56748bb0",
   "metadata": {
    "jp-MarkdownHeadingCollapsed": true
   },
   "source": [
    "## D054\n",
    "Crie um programa que leia o ano de nascimento de sete pessoas. No final, mostre quantos pessoas ainda não atingiram a maioridade e quanto já são maiores"
   ]
  },
  {
   "cell_type": "code",
   "execution_count": null,
   "id": "7137b6ae-ef6c-4412-a329-98472786b262",
   "metadata": {},
   "outputs": [],
   "source": [
    "from datetime import date\n",
    "print('='*60)\n",
    "print(f'{'Relação de maioridade':^60}')\n",
    "print('='*60)\n",
    "\n",
    "ano_atual = date.today().year\n",
    "\n",
    "maior = []\n",
    "menor = []\n",
    "for i in range(0,3):\n",
    "    idades = int(input('Digite a idade: '))\n",
    "    if ano_atual - idades < 18:\n",
    "        menor.append(idades)\n",
    "    if ano_atual - idades >= 18:\n",
    "        maior.append(idades)\n",
    "if maior==1:\n",
    "    print('Apenas {} é tem maioridade e {} são menores de idade'.format(len(maior),len(menor)))\n",
    "if menor==1:\n",
    "    print('{} possuem maioridade e apenas {} é menor de idade'.format(len(maior),len(menor)))\n",
    "if menor==1 and maior==1:\n",
    "    print('Apenas {} é tem maioridade e apenas {} é menor de idade'.format(len(maior),len(menor)))\n",
    "else:\n",
    "    print('{} possuem maioridade e {} são menores de idade'.format(len(maior),len(menor)))"
   ]
  },
  {
   "cell_type": "markdown",
   "id": "51455308-6bd1-4871-82f2-e2d2ef36c7c6",
   "metadata": {
    "jp-MarkdownHeadingCollapsed": true
   },
   "source": [
    "## D055\n",
    "Faça um programa que leia o peso de cinco pessoas. No final, mostre qual foi maior e o menor peso lidos."
   ]
  },
  {
   "cell_type": "code",
   "execution_count": null,
   "id": "a8957186-ce58-4319-9f50-3116f6dd1ee9",
   "metadata": {},
   "outputs": [],
   "source": [
    "print('='*60)\n",
    "print(f'{'Media de peso':^60}')\n",
    "print('='*60)\n",
    "\n",
    "maior = 0\n",
    "menor = 0\n",
    "for p in range(0,5):\n",
    "    peso = float(input('Digite o peso da {} pessoa: '.format(p+1)))\n",
    "    if p == 1:\n",
    "        maior = peso\n",
    "        menor = peso\n",
    "    else:\n",
    "        if peso > maior:\n",
    "            maior = peso\n",
    "        if peso < menor:\n",
    "            menor = peso\n",
    "print('O maior peso lido foi de {}Kg'.format(maior))\n",
    "print('O menor peso lido foi de {}Kg'.format(menor))"
   ]
  },
  {
   "cell_type": "markdown",
   "id": "515c9309-6a36-49cb-9342-359f44e77fce",
   "metadata": {},
   "source": [
    "## D056\n",
    "Desenvolva um programa que leia o nome, idade e sexo de quatro pessoas. No final do programa mostre:\n",
    "- A média de idade do grupo.\n",
    "- Qual é o nome do homem mais velho.\n",
    "- Quantas mulhers tem menos de 20 anos."
   ]
  },
  {
   "cell_type": "code",
   "execution_count": null,
   "id": "544a783f-f2fc-4f3b-8f04-b58858d61b74",
   "metadata": {},
   "outputs": [],
   "source": [
    "print('='*60)\n",
    "print(f'{'Media de peso':^60}')\n",
    "print('='*60)\n",
    "nome  = 0\n",
    "idade = 0\n",
    "sexo  = 0\n",
    "maior_idade_homem = 0\n",
    "somaidade = 0\n",
    "nomevelho = ''\n",
    "mulheres = 0\n",
    "for i in range(0,4):\n",
    "    print('Digte as seguntes informações Nome, idade e sexo para pessoa {}'.format(i+1))\n",
    "    nome = str(input('Digite o nome: '))\n",
    "    idade = int(input('Idade: '))\n",
    "    sexo = str(input('Sexo M ou F: '))\n",
    "    somaidade += idade\n",
    "    if i == 1 and sexo in 'Mm':\n",
    "        maior_idade_homem = idade\n",
    "        nomevelho = nome\n",
    "    if sexo in 'Mm' and idade > maior_idade_homem:\n",
    "        maior_idade_homem = idade\n",
    "        nomevelho = nome\n",
    "    if sexo in 'Ff' and idade < 20:\n",
    "        mulheres += 1\n",
    "print('A media de idade do grupo é de {:.2f} anos'.format(somaidade/4))\n",
    "print('O homem mais velho se chama {} e tem a idade {}.'.format(nome,idade))\n",
    "print('O total de mulheres com menos de 20 anos é {}.'.format(mulheres))"
   ]
  },
  {
   "cell_type": "markdown",
   "id": "fb98289a-d2e5-4f49-b4bd-dd6119cd207b",
   "metadata": {},
   "source": [
    "## D057\n",
    "Faça um programa que leia o sexo de uma pessoa, mas só aceite os valores 'M' ou 'F'.\n",
    "Caso esteja errado, peça a digitação novamente até ter um valor correto."
   ]
  },
  {
   "cell_type": "code",
   "execution_count": null,
   "id": "d61b69db-350f-436a-bd00-50ee2453afea",
   "metadata": {},
   "outputs": [],
   "source": [
    "print('='*60)\n",
    "print(f'{'Leitura do sexo de uma pessoa':^60}')\n",
    "print('='*60)\n",
    "\n",
    "sexo = ''\n",
    "while sexo != 'M' and sexo != 'F':\n",
    "    sexo = str(input('Digite o sexo [M/F]: ')).upper()\n",
    "print('Fim')"
   ]
  },
  {
   "cell_type": "markdown",
   "id": "3065931b-fddb-49ef-925c-cf481e249624",
   "metadata": {},
   "source": [
    "## D058\n",
    "Melhore o jogo do D028 onde o computador vai 'pensar' em um número entre 0 e 10. Só que agora o jogador vai tentar adivinhar até acetar, mostrando no final quantos palpites foram necessários para vencer."
   ]
  },
  {
   "cell_type": "code",
   "execution_count": null,
   "id": "4fcb0089-2753-44af-a6cc-c4ff3eedcd57",
   "metadata": {},
   "outputs": [],
   "source": [
    "import random\n",
    "print('='*60)\n",
    "print(f'{'Jogo de adivinhação':^60}')\n",
    "print('='*60)\n",
    "\n",
    "computador = random.randint(1,6)\n",
    "n = -1\n",
    "cont = 0\n",
    "while n != computador:\n",
    "    n = int(input('Digte um número: '))\n",
    "    cont += 1\n",
    "print('Você precisou de {} rodadas para acertar o número {} que o computador pensou.'.format(cont,n))"
   ]
  },
  {
   "cell_type": "markdown",
   "id": "5c98643a-8e8d-4640-ab7f-aea671c0e378",
   "metadata": {},
   "source": [
    "## D059\n",
    "Crie um progama que leia dois valores e mostre um menu na tela:\n",
    "- [1] somar\n",
    "- [2] multiplicar\n",
    "- [3] maior\n",
    "- [4] novos números\n",
    "- [5] sair do programa\n",
    "\n",
    "Seu programa deverá realizar a operação solicitada em cada caso."
   ]
  },
  {
   "cell_type": "code",
   "execution_count": null,
   "id": "bac0d69c-816b-410f-9433-7eb9f8420c23",
   "metadata": {},
   "outputs": [],
   "source": [
    "print('='*60)\n",
    "print(f'{'Menu':^60}')\n",
    "print('='*60)\n",
    "\n",
    "n1 = int(input('Digite o primeiro valor: '))\n",
    "n2 = int(input('Digte o segundo valor: '))\n",
    "opcao = 0\n",
    "while opcao != 5:\n",
    "    opcao = int(input('Escolha uma das opções:\\n[1] Somar \\n[2] Multiplicar \\n[3] Maior \\n[4] Novos números \\n[5] Sair '))\n",
    "    if opcao == 1:\n",
    "        soma = n1 + n2\n",
    "        print('A soma é {}.'.format(soma))\n",
    "    if opcao == 2:\n",
    "        mul = n1 * n2\n",
    "        print('A multiplicação é {}.'.format(mul))\n",
    "    if opcao == 3:\n",
    "        if n1 > n2:\n",
    "            print('O maior número é {}.'.format(n1))\n",
    "        else:\n",
    "            print('O maior número é {}.'.format(n2))\n",
    "    if opcao == 4:\n",
    "        n1 = int(input('Digite o primeiro valor: '))\n",
    "        n2 = int(input('Digte o segundo valor: '))\n",
    "print('Você saiu do menu')"
   ]
  },
  {
   "cell_type": "markdown",
   "id": "7fdd2d86-52e3-46cb-aa49-2b100e0a10af",
   "metadata": {},
   "source": [
    "## D060\n",
    "Faça um programa que leia um número qualquer e motre o seu fatorial."
   ]
  },
  {
   "cell_type": "code",
   "execution_count": null,
   "id": "ee13c63f-a7ee-4150-8e37-0860dedfdf87",
   "metadata": {},
   "outputs": [],
   "source": [
    "print('='*60)\n",
    "print(f'{'Calculo fatorial de um número com (while)':^60}')\n",
    "print('='*60)\n",
    "\n",
    "n = int(input('Digite um número que deseja calcular o fatorial: '))\n",
    "res  = 1\n",
    "cont = 1\n",
    "\n",
    "while cont <= n:\n",
    "    res *= cont\n",
    "    cont += 1\n",
    "print('\\nO resultado de {}! é: {}.'.format(n,res))"
   ]
  },
  {
   "cell_type": "code",
   "execution_count": 10,
   "id": "2720baf5-d858-439a-94e0-46e53ac0e495",
   "metadata": {},
   "outputs": [
    {
     "name": "stdout",
     "output_type": "stream",
     "text": [
      "               Calculo fatorial de um número                \n",
      "============================================================\n"
     ]
    },
    {
     "name": "stdout",
     "output_type": "stream",
     "text": [
      "Digite um número que deseja calcular o fatorial:  5\n"
     ]
    },
    {
     "name": "stdout",
     "output_type": "stream",
     "text": [
      "120\n"
     ]
    }
   ],
   "source": [
    "print('='*60)\n",
    "print(f'{'Calculo fatorial de um número com (for)':^60}')\n",
    "print('='*60)\n",
    "\n",
    "n = int(input('Digite um número que deseja calcular o fatorial: '))\n",
    "res = 1\n",
    "for i in range(n,1,-1):\n",
    "    res *= i\n",
    "print(res)\n"
   ]
  },
  {
   "cell_type": "code",
   "execution_count": null,
   "id": "9dcf8d2a-63bf-4798-abaf-a005dae740d1",
   "metadata": {},
   "outputs": [],
   "source": []
  },
  {
   "cell_type": "code",
   "execution_count": 1,
   "id": "f7125cee",
   "metadata": {},
   "outputs": [],
   "source": [
    "estado = dict()\n",
    "brasil = list()\n",
    "for c in range(0,3):\n",
    "    estado['uf'] = str(input('Unidade federativa: '))\n",
    "    estado['sigla'] = str(input('Sigla do Estado: '))\n",
    "    brasil.append(estado)\n",
    "print(brasil)"
   ]
  },
  {
   "cell_type": "code",
   "execution_count": null,
   "id": "99632941",
   "metadata": {},
   "outputs": [],
   "source": []
  }
 ],
 "metadata": {
  "kernelspec": {
   "display_name": "Python 3 (ipykernel)",
   "language": "python",
   "name": "python3"
  },
  "language_info": {
   "codemirror_mode": {
    "name": "ipython",
    "version": 3
   },
   "file_extension": ".py",
   "mimetype": "text/x-python",
   "name": "python",
   "nbconvert_exporter": "python",
   "pygments_lexer": "ipython3",
   "version": "3.11.9"
  }
 },
 "nbformat": 4,
 "nbformat_minor": 5
}
