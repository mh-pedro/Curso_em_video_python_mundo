{
 "cells": [
  {
   "cell_type": "code",
   "execution_count": 9,
   "metadata": {},
   "outputs": [
    {
     "name": "stdout",
     "output_type": "stream",
     "text": [
      "------------------------------\n",
      "        Curso em Vídeo        \n",
      "------------------------------\n",
      "------------------------------\n",
      "        Aprenda Python        \n",
      "------------------------------\n"
     ]
    }
   ],
   "source": [
    "def mensagem(msg):\n",
    "    print('-'*30)\n",
    "    print(msg.center(30))\n",
    "    print('-'*30)\n",
    "    \n",
    "\n",
    "mensagem('Curso em Vídeo')\n",
    "mensagem('Aprenda Python')\n"
   ]
  },
  {
   "cell_type": "code",
   "execution_count": 10,
   "metadata": {},
   "outputs": [
    {
     "name": "stdout",
     "output_type": "stream",
     "text": [
      "9\n",
      "17\n"
     ]
    }
   ],
   "source": [
    "a = 4\n",
    "b = 5\n",
    "s = a+b\n",
    "print(s)\n",
    "\n",
    "a = 8\n",
    "b = 9\n",
    "s = a+b\n",
    "print(s)"
   ]
  },
  {
   "cell_type": "code",
   "execution_count": 12,
   "metadata": {},
   "outputs": [
    {
     "name": "stdout",
     "output_type": "stream",
     "text": [
      "5\n"
     ]
    }
   ],
   "source": [
    "def soma(a,b):\n",
    "    s = a+b\n",
    "    print(s)\n",
    "\n",
    "\n",
    "soma(2,3)"
   ]
  },
  {
   "cell_type": "code",
   "execution_count": 13,
   "metadata": {},
   "outputs": [
    {
     "name": "stdout",
     "output_type": "stream",
     "text": [
      "(2, 1, 7)\n",
      "(8, 9)\n"
     ]
    }
   ],
   "source": [
    "def contador(* núm): # Quando utiliazamos `*núm` podemos passar vários parametros para função que são salvos em uma tupla\n",
    "    print(núm)\n",
    "\n",
    "\n",
    "contador(2, 1, 7)\n",
    "contador(8, 9)"
   ]
  },
  {
   "cell_type": "code",
   "execution_count": 14,
   "metadata": {},
   "outputs": [
    {
     "name": "stdout",
     "output_type": "stream",
     "text": [
      "[6, 8, 10, 12]\n"
     ]
    }
   ],
   "source": [
    "def dobra(lst):\n",
    "    pos = 0\n",
    "    while pos <len(lst):\n",
    "        lst[pos]*=2\n",
    "        pos+=1\n",
    "\n",
    "\n",
    "valores = [3,4,5,6]\n",
    "dobra(valores)\n",
    "print(valores)\n"
   ]
  },
  {
   "cell_type": "code",
   "execution_count": 19,
   "metadata": {},
   "outputs": [],
   "source": [
    "def soma2(*numeros):\n",
    "    s = 0\n",
    "    for num in numeros:\n",
    "        s+= num\n",
    "    print(s)"
   ]
  },
  {
   "cell_type": "code",
   "execution_count": 20,
   "metadata": {},
   "outputs": [
    {
     "name": "stdout",
     "output_type": "stream",
     "text": [
      "14\n"
     ]
    }
   ],
   "source": [
    "soma2(2,3,4,5)"
   ]
  },
  {
   "cell_type": "code",
   "execution_count": 78,
   "metadata": {},
   "outputs": [],
   "source": [
    "from random import randint\n",
    "import time\n",
    "def choose():\n",
    "    lst = list()\n",
    "    print('The 5 values choose are: ', end='')\n",
    "    for i in range(0,5):\n",
    "        n = randint(0,10)\n",
    "        print(f'{i}', end=' ')\n",
    "        time.sleep(.5)\n",
    "        lst.append(n)\n",
    "    print('FINISH!!')\n",
    "\n",
    "def sumEven():\n",
    "    for i in lst:\n",
    "        if i % 2 == 0:\n",
    "            sun += i\n",
    "    print(sun)"
   ]
  },
  {
   "cell_type": "code",
   "execution_count": 79,
   "metadata": {},
   "outputs": [
    {
     "name": "stdout",
     "output_type": "stream",
     "text": [
      "The 5 values choose are: 0 1 2 3 4 FINISH!!\n",
      "The 5 values choose are: 0 1 2 3 4 FINISH!!\n"
     ]
    },
    {
     "ename": "TypeError",
     "evalue": "'NoneType' object is not iterable",
     "output_type": "error",
     "traceback": [
      "\u001b[0;31m---------------------------------------------------------------------------\u001b[0m",
      "\u001b[0;31mTypeError\u001b[0m                                 Traceback (most recent call last)",
      "Cell \u001b[0;32mIn[79], line 2\u001b[0m\n\u001b[1;32m      1\u001b[0m choose()\n\u001b[0;32m----> 2\u001b[0m \u001b[43msumEven\u001b[49m\u001b[43m(\u001b[49m\u001b[43m)\u001b[49m\n",
      "Cell \u001b[0;32mIn[78], line 14\u001b[0m, in \u001b[0;36msumEven\u001b[0;34m()\u001b[0m\n\u001b[1;32m     13\u001b[0m \u001b[38;5;28;01mdef\u001b[39;00m \u001b[38;5;21msumEven\u001b[39m():\n\u001b[0;32m---> 14\u001b[0m \u001b[43m    \u001b[49m\u001b[38;5;28;43;01mfor\u001b[39;49;00m\u001b[43m \u001b[49m\u001b[43mi\u001b[49m\u001b[43m \u001b[49m\u001b[38;5;129;43;01min\u001b[39;49;00m\u001b[43m \u001b[49m\u001b[43mchoose\u001b[49m\u001b[43m(\u001b[49m\u001b[43m)\u001b[49m\u001b[43m:\u001b[49m\n\u001b[1;32m     15\u001b[0m \u001b[43m        \u001b[49m\u001b[38;5;28;43;01mif\u001b[39;49;00m\u001b[43m \u001b[49m\u001b[43mi\u001b[49m\u001b[43m \u001b[49m\u001b[38;5;241;43m%\u001b[39;49m\u001b[43m \u001b[49m\u001b[38;5;241;43m2\u001b[39;49m\u001b[43m \u001b[49m\u001b[38;5;241;43m==\u001b[39;49m\u001b[43m \u001b[49m\u001b[38;5;241;43m0\u001b[39;49m\u001b[43m:\u001b[49m\n\u001b[1;32m     16\u001b[0m \u001b[43m            \u001b[49m\u001b[43msun\u001b[49m\u001b[43m \u001b[49m\u001b[38;5;241;43m+\u001b[39;49m\u001b[38;5;241;43m=\u001b[39;49m\u001b[43m \u001b[49m\u001b[43mi\u001b[49m\n",
      "\u001b[0;31mTypeError\u001b[0m: 'NoneType' object is not iterable"
     ]
    }
   ],
   "source": [
    "choose()\n",
    "sumEven()"
   ]
  },
  {
   "cell_type": "code",
   "execution_count": null,
   "metadata": {},
   "outputs": [],
   "source": []
  }
 ],
 "metadata": {
  "kernelspec": {
   "display_name": "Python 3",
   "language": "python",
   "name": "python3"
  },
  "language_info": {
   "codemirror_mode": {
    "name": "ipython",
    "version": 3
   },
   "file_extension": ".py",
   "mimetype": "text/x-python",
   "name": "python",
   "nbconvert_exporter": "python",
   "pygments_lexer": "ipython3",
   "version": "3.11.9"
  }
 },
 "nbformat": 4,
 "nbformat_minor": 2
}
