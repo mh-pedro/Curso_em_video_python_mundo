{
 "cells": [
  {
   "cell_type": "markdown",
   "metadata": {},
   "source": [
    "# 19 Class: Dictionary"
   ]
  },
  {
   "cell_type": "code",
   "execution_count": null,
   "metadata": {},
   "outputs": [],
   "source": [
    "#dados = dict()\n",
    "dados = {'nome':'Pedro','idade':25}\n",
    "print(dados['nome'])\n",
    "print(dados['idade'])"
   ]
  },
  {
   "cell_type": "code",
   "execution_count": null,
   "metadata": {},
   "outputs": [],
   "source": [
    "dados['sexo']='M' # We can use this to add some element in the dict\n",
    "print(dados)"
   ]
  },
  {
   "cell_type": "code",
   "execution_count": null,
   "metadata": {},
   "outputs": [],
   "source": [
    "del dados['idade'] # To remove some elements\n",
    "print(dados)"
   ]
  },
  {
   "cell_type": "code",
   "execution_count": null,
   "metadata": {},
   "outputs": [],
   "source": [
    "filme = {'titulo':'Star Wars',\n",
    "         'ano':1977,\n",
    "         'diretor':'George Lucas'\n",
    "         }"
   ]
  },
  {
   "cell_type": "code",
   "execution_count": null,
   "metadata": {},
   "outputs": [],
   "source": [
    "print(filme.values())\n",
    "print(filme.keys())\n",
    "print(filme.items())"
   ]
  },
  {
   "cell_type": "code",
   "execution_count": null,
   "metadata": {},
   "outputs": [],
   "source": [
    "for k, v in filme.items():\n",
    "    print(f'O {k} é {v}')"
   ]
  },
  {
   "cell_type": "code",
   "execution_count": null,
   "metadata": {},
   "outputs": [],
   "source": [
    "locadora = [{'titulo':'Star Wars',\n",
    "         'ano':1977,\n",
    "         'diretor':'George Lucas'\n",
    "         },\n",
    "         {'titulo':'Avengers',\n",
    "         'ano':2012,\n",
    "         'diretor':'Joss Whedon'\n",
    "         },\n",
    "         {'titulo':'Matrix',\n",
    "         'ano':1999,\n",
    "         'diretor':'Wachowski'\n",
    "         }]"
   ]
  },
  {
   "cell_type": "code",
   "execution_count": null,
   "metadata": {},
   "outputs": [],
   "source": [
    "print(locadora[0]['ano'])"
   ]
  },
  {
   "cell_type": "code",
   "execution_count": null,
   "metadata": {},
   "outputs": [],
   "source": [
    "pessoas = {'nome': 'Gustavo', 'sexo':'M','idade':22}\n",
    "print(pessoas['nome'])\n",
    "print(f'O {pessoas[\"nome\"]} tem {pessoas[\"idade\"]} anos.')"
   ]
  },
  {
   "cell_type": "code",
   "execution_count": null,
   "metadata": {},
   "outputs": [],
   "source": [
    "for k, v in pessoas.items():\n",
    "    print(f'{k} = {v}')"
   ]
  },
  {
   "cell_type": "code",
   "execution_count": null,
   "metadata": {},
   "outputs": [],
   "source": [
    "brasil = []\n",
    "estado1 = {'uf':'Rio de Janeiro', 'sigla':'RJ'}\n",
    "estado2 = {'uf':'São Paulo', 'sigla':'SP'}\n",
    "brasil.append(estado1)\n",
    "brasil.append(estado2)"
   ]
  },
  {
   "cell_type": "code",
   "execution_count": null,
   "metadata": {},
   "outputs": [],
   "source": [
    "print(brasil)"
   ]
  },
  {
   "cell_type": "code",
   "execution_count": null,
   "metadata": {},
   "outputs": [],
   "source": [
    "for k in brasil:\n",
    "    print(k['uf'])"
   ]
  },
  {
   "cell_type": "code",
   "execution_count": null,
   "metadata": {},
   "outputs": [],
   "source": [
    "estado = dict()\n",
    "brasil = list()\n",
    "for c in range(0,3):\n",
    "    estado['uf'] = str(input('Unidade federativa: '))\n",
    "    estado['sigla'] = str(input('Sigla do Estado: '))\n",
    "    brasil.append(estado.copy())\n",
    "print(brasil)"
   ]
  },
  {
   "cell_type": "code",
   "execution_count": 11,
   "metadata": {},
   "outputs": [
    {
     "name": "stdout",
     "output_type": "stream",
     "text": [
      "O campo uf tem valor Paraíba.\n",
      "O campo sigla tem valor PB.\n",
      "O campo uf tem valor São Paulo.\n",
      "O campo sigla tem valor SP.\n",
      "O campo uf tem valor Rio Grande do Norte.\n",
      "O campo sigla tem valor RN.\n"
     ]
    }
   ],
   "source": [
    "estado = dict()\n",
    "brasil = list()\n",
    "for c in range(0,3):\n",
    "    estado['uf'] = str(input('Unidade federativa: '))\n",
    "    estado['sigla'] = str(input('Sigla do Estado: '))\n",
    "    brasil.append(estado.copy())\n",
    "for e in brasil:\n",
    "    for k, v in e.items():\n",
    "        print(f'O campo {k} tem valor {v}.')"
   ]
  },
  {
   "cell_type": "code",
   "execution_count": null,
   "metadata": {},
   "outputs": [],
   "source": []
  }
 ],
 "metadata": {
  "kernelspec": {
   "display_name": "Python 3",
   "language": "python",
   "name": "python3"
  },
  "language_info": {
   "codemirror_mode": {
    "name": "ipython",
    "version": 3
   },
   "file_extension": ".py",
   "mimetype": "text/x-python",
   "name": "python",
   "nbconvert_exporter": "python",
   "pygments_lexer": "ipython3",
   "version": "3.11.9"
  }
 },
 "nbformat": 4,
 "nbformat_minor": 2
}
